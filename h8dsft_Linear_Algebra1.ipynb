{
 "cells": [
  {
   "cell_type": "markdown",
   "metadata": {},
   "source": [
    "---\n",
    "## Assignment Instructions\n",
    "\n",
    "1. Buatlah Vector dibawah ini dengan Python:\n",
    "\n",
    "  $$\n",
    "  \\begin{bmatrix}\n",
    "  17 \\\\\n",
    "  22 \\\\\n",
    "  19\n",
    "  \\end{bmatrix}\n",
    "  $$\n",
    "\n",
    "2. Diberikan 3 buah vektor 3 dimensi:\n",
    "$$\n",
    "A=\n",
    "\\begin{bmatrix}\n",
    "17 \\\\\n",
    "22 \\\\\n",
    "19\n",
    "\\end{bmatrix}\n",
    ",B=\n",
    "\\begin{bmatrix}\n",
    "10 \\\\\n",
    "20 \\\\\n",
    "11\n",
    "\\end{bmatrix},\n",
    "C=\n",
    "\\begin{bmatrix}\n",
    "5 \\\\\n",
    "12 \\\\\n",
    "9\n",
    "\\end{bmatrix}\n",
    "$$\n",
    "\n",
    "   Hitunglah:\n",
    "   - A+B\n",
    "   - B-C\n",
    "   - A dot C\n",
    "   - A x B\n",
    "   - norm A\n",
    "   - Sudut antara vektor A dan B\n",
    "\n",
    "3. Buatlah plot dari vector berikut ini kedalam bidang 2D:\n",
    "\n",
    "  $$\n",
    "  U =\n",
    "  \\begin{bmatrix}\n",
    "  2 \\\\ 5\n",
    "  \\end{bmatrix},\n",
    "  V =\n",
    "  \\begin{bmatrix}\n",
    "  3 \\\\ 1\n",
    "  \\end{bmatrix}\n",
    "  $$\n"
   ]
  },
  {
   "cell_type": "markdown",
   "metadata": {},
   "source": [
    "## Memasukan library yang diapakai"
   ]
  },
  {
   "cell_type": "code",
   "execution_count": 33,
   "metadata": {},
   "outputs": [],
   "source": [
    "import numpy as np\n",
    "import matplotlib.pyplot as plt"
   ]
  },
  {
   "cell_type": "markdown",
   "metadata": {},
   "source": [
    "## Answer"
   ]
  },
  {
   "cell_type": "markdown",
   "metadata": {},
   "source": [
    "### Soal 1"
   ]
  },
  {
   "cell_type": "code",
   "execution_count": 45,
   "metadata": {},
   "outputs": [
    {
     "data": {
      "text/plain": [
       "array([17, 22, 18])"
      ]
     },
     "execution_count": 45,
     "metadata": {},
     "output_type": "execute_result"
    }
   ],
   "source": [
    "vector =  np.array([17, 22, 18]) #define vector in variabel vector\n",
    "vector"
   ]
  },
  {
   "cell_type": "markdown",
   "metadata": {},
   "source": [
    "### Soal 2"
   ]
  },
  {
   "cell_type": "code",
   "execution_count": 5,
   "metadata": {},
   "outputs": [],
   "source": [
    "A =  np.array([17, 22, 19])\n",
    "B =  np.array([10, 20, 11])\n",
    "C =  np.array([5, 12, 19])"
   ]
  },
  {
   "cell_type": "code",
   "execution_count": 48,
   "metadata": {},
   "outputs": [
    {
     "name": "stdout",
     "output_type": "stream",
     "text": [
      "Penjumlahan :  [27 42 30]\n",
      "Pengurangan :  [ 5  8 -8]\n",
      "Jumlah hasil perkalian   :  710\n",
      "perkalian   :  [ 85 264 361]\n",
      "Norm A : 33.67491648096547\n"
     ]
    }
   ],
   "source": [
    "print('Penjumlahan : ', A + B)\n",
    "print('Pengurangan : ', B - C)\n",
    "print('Jumlah hasil perkalian   : ', A @ C)\n",
    "print('perkalian   : ', A * C)\n",
    "print('Norm A :', np.linalg.norm(A))"
   ]
  },
  {
   "cell_type": "code",
   "execution_count": 49,
   "metadata": {},
   "outputs": [
    {
     "name": "stdout",
     "output_type": "stream",
     "text": [
      "Cos Theta    :  0.9759590023331435\n",
      "Radians      :  0.21971776576153962\n",
      "Angle/Degree :  12.588900662180242\n"
     ]
    }
   ],
   "source": [
    "result_dot_product = A @ B # Menghitung dot bektor A dab B\n",
    "cos_theta = result_dot_product / (np.linalg.norm(A) * np.linalg.norm(B)) # Membuat variabel cos_theta diisi dengan rumus dot a.b/norm A * norm B (mencari nilai cos)\n",
    "radians = np.arccos(cos_theta) # Membuat variabel radians lalu diisi value untuk mencari sudut dari cos theta\n",
    "degree = np.degrees(radians) # Membuat variabel degree lalu diisi value untuk convert dari radians ke degree\n",
    "\n",
    "print('Cos Theta    : ', cos_theta)\n",
    "print('Radians      : ', radians)\n",
    "print('Angle/Degree : ', degree) # Sudut antara vektor A dan B"
   ]
  },
  {
   "cell_type": "markdown",
   "metadata": {},
   "source": [
    "### Soal 3"
   ]
  },
  {
   "cell_type": "code",
   "execution_count": 42,
   "metadata": {},
   "outputs": [],
   "source": [
    "# Define the Vectors\n",
    "\n",
    "U = np.array([2, 5])\n",
    "V = np.array([3, 1])"
   ]
  },
  {
   "cell_type": "code",
   "execution_count": 41,
   "metadata": {},
   "outputs": [
    {
     "data": {
      "image/png": "[encoded data removed]",
      "text/plain": [
       "<Figure size 640x480 with 1 Axes>"
      ]
     },
     "metadata": {},
     "output_type": "display_data"
    }
   ],
   "source": [
    "# Plot 2D\n",
    "\n",
    "plt.arrow(0, 0, U[0], U[1], color=\"g\", head_width=0.2) \n",
    "plt.arrow(0, 0, V[0], V[1], color=\"b\", head_width=0.2)\n",
    "plt.axis([0, 7, 0, 7])\n",
    "plt.grid()\n",
    "plt.show()"
   ]
  }
 ],
 "metadata": {
  "kernelspec": {
   "display_name": "Python 3.10.4 64-bit",
   "language": "python",
   "name": "python3"
  },
  "language_info": {
   "codemirror_mode": {
    "name": "ipython",
    "version": 3
   },
   "file_extension": ".py",
   "mimetype": "text/x-python",
   "name": "python",
   "nbconvert_exporter": "python",
   "pygments_lexer": "ipython3",
   "version": "3.10.4"
  },
  "orig_nbformat": 4,
  "vscode": {
   "interpreter": {
    "hash": "4217bdb66c1619d3c7bf3a5f6dea8f7bd4200ce5b7b90b812037b80bad35d2ee"
   }
  }
 },
 "nbformat": 4,
 "nbformat_minor": 2
}
